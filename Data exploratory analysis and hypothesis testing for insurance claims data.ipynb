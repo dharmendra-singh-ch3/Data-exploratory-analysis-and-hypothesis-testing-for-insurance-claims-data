{
 "cells": [
  {
   "cell_type": "code",
   "execution_count": 230,
   "id": "dad6c195",
   "metadata": {},
   "outputs": [
    {
     "name": "stdout",
     "output_type": "stream",
     "text": [
      "Note: you may need to restart the kernel to use updated packages.\n"
     ]
    },
    {
     "name": "stderr",
     "output_type": "stream",
     "text": [
      "WARNING: Ignoring invalid distribution -rkupsafe (c:\\programdata\\anaconda3\\lib\\site-packages)\n",
      "WARNING: Ignoring invalid distribution -rkupsafe (c:\\programdata\\anaconda3\\lib\\site-packages)\n",
      "WARNING: Ignoring invalid distribution - (c:\\programdata\\anaconda3\\lib\\site-packages)\n",
      "WARNING: Ignoring invalid distribution -arkupsafe (c:\\programdata\\anaconda3\\lib\\site-packages)\n",
      "WARNING: Ignoring invalid distribution -rkupsafe (c:\\programdata\\anaconda3\\lib\\site-packages)\n",
      "WARNING: Ignoring invalid distribution -rkupsafe (c:\\programdata\\anaconda3\\lib\\site-packages)\n",
      "WARNING: Ignoring invalid distribution - (c:\\programdata\\anaconda3\\lib\\site-packages)\n",
      "WARNING: Ignoring invalid distribution -arkupsafe (c:\\programdata\\anaconda3\\lib\\site-packages)\n",
      "ERROR: Could not find a version that satisfies the requirement scipy.stats (from versions: none)\n",
      "ERROR: No matching distribution found for scipy.stats\n",
      "WARNING: Ignoring invalid distribution -rkupsafe (c:\\programdata\\anaconda3\\lib\\site-packages)\n",
      "WARNING: Ignoring invalid distribution -rkupsafe (c:\\programdata\\anaconda3\\lib\\site-packages)\n",
      "WARNING: Ignoring invalid distribution - (c:\\programdata\\anaconda3\\lib\\site-packages)\n",
      "WARNING: Ignoring invalid distribution -arkupsafe (c:\\programdata\\anaconda3\\lib\\site-packages)\n",
      "WARNING: Ignoring invalid distribution -rkupsafe (c:\\programdata\\anaconda3\\lib\\site-packages)\n",
      "WARNING: Ignoring invalid distribution -rkupsafe (c:\\programdata\\anaconda3\\lib\\site-packages)\n",
      "WARNING: Ignoring invalid distribution - (c:\\programdata\\anaconda3\\lib\\site-packages)\n",
      "WARNING: Ignoring invalid distribution -arkupsafe (c:\\programdata\\anaconda3\\lib\\site-packages)\n",
      "WARNING: Ignoring invalid distribution -rkupsafe (c:\\programdata\\anaconda3\\lib\\site-packages)\n",
      "WARNING: Ignoring invalid distribution -rkupsafe (c:\\programdata\\anaconda3\\lib\\site-packages)\n",
      "WARNING: Ignoring invalid distribution - (c:\\programdata\\anaconda3\\lib\\site-packages)\n",
      "WARNING: Ignoring invalid distribution -arkupsafe (c:\\programdata\\anaconda3\\lib\\site-packages)\n"
     ]
    }
   ],
   "source": [
    "pip install scipy.stats"
   ]
  },
  {
   "cell_type": "code",
   "execution_count": 232,
   "id": "601911a1",
   "metadata": {},
   "outputs": [],
   "source": [
    "import pandas as pd\n",
    "import numpy as np\n",
    "import matplotlib.pyplot as plt\n",
    "import datetime as dt\n",
    "import seaborn as sns\n",
    "import re\n",
    "import scipy.stats as stats\n",
    "# set the graphs to show in the jupyter notebook\n",
    "%matplotlib inline\n",
    " \n",
    "# set seabor graphs to a better style\n",
    "sns.set(style=\"ticks\")"
   ]
  },
  {
   "cell_type": "markdown",
   "id": "e0bb9cf4",
   "metadata": {},
   "source": [
    "1. Import claims_data.csv and cust_data.csv which is provided to you and \n",
    "combine the two datasets appropriately to create a 360-degree view of \n",
    "the data. Use the same for the subsequent questions."
   ]
  },
  {
   "cell_type": "code",
   "execution_count": 233,
   "id": "8907fe03",
   "metadata": {},
   "outputs": [
    {
     "data": {
      "text/html": [
       "<div>\n",
       "<style scoped>\n",
       "    .dataframe tbody tr th:only-of-type {\n",
       "        vertical-align: middle;\n",
       "    }\n",
       "\n",
       "    .dataframe tbody tr th {\n",
       "        vertical-align: top;\n",
       "    }\n",
       "\n",
       "    .dataframe thead th {\n",
       "        text-align: right;\n",
       "    }\n",
       "</style>\n",
       "<table border=\"1\" class=\"dataframe\">\n",
       "  <thead>\n",
       "    <tr style=\"text-align: right;\">\n",
       "      <th></th>\n",
       "      <th>CUST_ID</th>\n",
       "      <th>gender</th>\n",
       "      <th>DateOfBirth</th>\n",
       "      <th>State</th>\n",
       "      <th>Contact</th>\n",
       "      <th>Segment</th>\n",
       "      <th>claim_id</th>\n",
       "      <th>customer_id</th>\n",
       "      <th>incident_cause</th>\n",
       "      <th>claim_date</th>\n",
       "      <th>claim_area</th>\n",
       "      <th>police_report</th>\n",
       "      <th>claim_type</th>\n",
       "      <th>claim_amount</th>\n",
       "      <th>total_policy_claims</th>\n",
       "      <th>fraudulent</th>\n",
       "    </tr>\n",
       "  </thead>\n",
       "  <tbody>\n",
       "    <tr>\n",
       "      <th>0</th>\n",
       "      <td>21868593</td>\n",
       "      <td>Female</td>\n",
       "      <td>12-Jan-79</td>\n",
       "      <td>VT</td>\n",
       "      <td>789-916-8172</td>\n",
       "      <td>Platinum</td>\n",
       "      <td>54004764.0</td>\n",
       "      <td>21868593.0</td>\n",
       "      <td>Driver error</td>\n",
       "      <td>11/27/2017</td>\n",
       "      <td>Auto</td>\n",
       "      <td>No</td>\n",
       "      <td>Material only</td>\n",
       "      <td>$2980</td>\n",
       "      <td>1.0</td>\n",
       "      <td>No</td>\n",
       "    </tr>\n",
       "    <tr>\n",
       "      <th>1</th>\n",
       "      <td>75740424</td>\n",
       "      <td>Female</td>\n",
       "      <td>13-Jan-70</td>\n",
       "      <td>ME</td>\n",
       "      <td>265-543-1264</td>\n",
       "      <td>Silver</td>\n",
       "      <td>33985796.0</td>\n",
       "      <td>75740424.0</td>\n",
       "      <td>Crime</td>\n",
       "      <td>10/03/2018</td>\n",
       "      <td>Home</td>\n",
       "      <td>Unknown</td>\n",
       "      <td>Material only</td>\n",
       "      <td>$2980</td>\n",
       "      <td>3.0</td>\n",
       "      <td>No</td>\n",
       "    </tr>\n",
       "    <tr>\n",
       "      <th>2</th>\n",
       "      <td>30308357</td>\n",
       "      <td>Female</td>\n",
       "      <td>11-Mar-84</td>\n",
       "      <td>TN</td>\n",
       "      <td>798-631-4758</td>\n",
       "      <td>Silver</td>\n",
       "      <td>53522022.0</td>\n",
       "      <td>30308357.0</td>\n",
       "      <td>Other driver error</td>\n",
       "      <td>02/02/2018</td>\n",
       "      <td>Auto</td>\n",
       "      <td>No</td>\n",
       "      <td>Material only</td>\n",
       "      <td>$3369.5</td>\n",
       "      <td>1.0</td>\n",
       "      <td>Yes</td>\n",
       "    </tr>\n",
       "    <tr>\n",
       "      <th>3</th>\n",
       "      <td>30308357</td>\n",
       "      <td>Female</td>\n",
       "      <td>11-Mar-84</td>\n",
       "      <td>TN</td>\n",
       "      <td>798-631-4758</td>\n",
       "      <td>Silver</td>\n",
       "      <td>63017412.0</td>\n",
       "      <td>30308357.0</td>\n",
       "      <td>Driver error</td>\n",
       "      <td>04/04/2018</td>\n",
       "      <td>Auto</td>\n",
       "      <td>No</td>\n",
       "      <td>Material only</td>\n",
       "      <td>$1950</td>\n",
       "      <td>6.0</td>\n",
       "      <td>No</td>\n",
       "    </tr>\n",
       "    <tr>\n",
       "      <th>4</th>\n",
       "      <td>47830476</td>\n",
       "      <td>Female</td>\n",
       "      <td>01-May-86</td>\n",
       "      <td>MA</td>\n",
       "      <td>413-187-7945</td>\n",
       "      <td>Silver</td>\n",
       "      <td>13015401.0</td>\n",
       "      <td>47830476.0</td>\n",
       "      <td>Natural causes</td>\n",
       "      <td>06/17/2018</td>\n",
       "      <td>Auto</td>\n",
       "      <td>No</td>\n",
       "      <td>Material only</td>\n",
       "      <td>$1680</td>\n",
       "      <td>1.0</td>\n",
       "      <td>No</td>\n",
       "    </tr>\n",
       "    <tr>\n",
       "      <th>...</th>\n",
       "      <td>...</td>\n",
       "      <td>...</td>\n",
       "      <td>...</td>\n",
       "      <td>...</td>\n",
       "      <td>...</td>\n",
       "      <td>...</td>\n",
       "      <td>...</td>\n",
       "      <td>...</td>\n",
       "      <td>...</td>\n",
       "      <td>...</td>\n",
       "      <td>...</td>\n",
       "      <td>...</td>\n",
       "      <td>...</td>\n",
       "      <td>...</td>\n",
       "      <td>...</td>\n",
       "      <td>...</td>\n",
       "    </tr>\n",
       "    <tr>\n",
       "      <th>1087</th>\n",
       "      <td>79539873</td>\n",
       "      <td>Female</td>\n",
       "      <td>15-Mar-81</td>\n",
       "      <td>ND</td>\n",
       "      <td>459-425-4319</td>\n",
       "      <td>Platinum</td>\n",
       "      <td>62020796.0</td>\n",
       "      <td>79539873.0</td>\n",
       "      <td>Other driver error</td>\n",
       "      <td>09/06/2018</td>\n",
       "      <td>Auto</td>\n",
       "      <td>Yes</td>\n",
       "      <td>Material only</td>\n",
       "      <td>$1770</td>\n",
       "      <td>1.0</td>\n",
       "      <td>No</td>\n",
       "    </tr>\n",
       "    <tr>\n",
       "      <th>1088</th>\n",
       "      <td>42364152</td>\n",
       "      <td>Female</td>\n",
       "      <td>07-Jul-96</td>\n",
       "      <td>ID</td>\n",
       "      <td>529-462-1635</td>\n",
       "      <td>Silver</td>\n",
       "      <td>63269067.0</td>\n",
       "      <td>42364152.0</td>\n",
       "      <td>Other causes</td>\n",
       "      <td>05/09/2017</td>\n",
       "      <td>Home</td>\n",
       "      <td>No</td>\n",
       "      <td>Material only</td>\n",
       "      <td>$2800</td>\n",
       "      <td>1.0</td>\n",
       "      <td>No</td>\n",
       "    </tr>\n",
       "    <tr>\n",
       "      <th>1089</th>\n",
       "      <td>19888166</td>\n",
       "      <td>Male</td>\n",
       "      <td>11-Apr-90</td>\n",
       "      <td>WI</td>\n",
       "      <td>712-651-9613</td>\n",
       "      <td>Gold</td>\n",
       "      <td>22690595.0</td>\n",
       "      <td>19888166.0</td>\n",
       "      <td>Other driver error</td>\n",
       "      <td>05/15/2017</td>\n",
       "      <td>Auto</td>\n",
       "      <td>Yes</td>\n",
       "      <td>Injury only</td>\n",
       "      <td>$33080</td>\n",
       "      <td>2.0</td>\n",
       "      <td>No</td>\n",
       "    </tr>\n",
       "    <tr>\n",
       "      <th>1090</th>\n",
       "      <td>11256802</td>\n",
       "      <td>Female</td>\n",
       "      <td>22-Oct-64</td>\n",
       "      <td>LA</td>\n",
       "      <td>469-345-5617</td>\n",
       "      <td>Silver</td>\n",
       "      <td>12376894.0</td>\n",
       "      <td>11256802.0</td>\n",
       "      <td>Other driver error</td>\n",
       "      <td>04/18/2017</td>\n",
       "      <td>Auto</td>\n",
       "      <td>No</td>\n",
       "      <td>Material only</td>\n",
       "      <td>$2840</td>\n",
       "      <td>4.0</td>\n",
       "      <td>No</td>\n",
       "    </tr>\n",
       "    <tr>\n",
       "      <th>1091</th>\n",
       "      <td>61575264</td>\n",
       "      <td>Male</td>\n",
       "      <td>12-Jul-95</td>\n",
       "      <td>WY</td>\n",
       "      <td>182-385-1392</td>\n",
       "      <td>Gold</td>\n",
       "      <td>63226031.0</td>\n",
       "      <td>61575264.0</td>\n",
       "      <td>Natural causes</td>\n",
       "      <td>03/16/2017</td>\n",
       "      <td>Auto</td>\n",
       "      <td>No</td>\n",
       "      <td>Material only</td>\n",
       "      <td>$1490</td>\n",
       "      <td>1.0</td>\n",
       "      <td>No</td>\n",
       "    </tr>\n",
       "  </tbody>\n",
       "</table>\n",
       "<p>1092 rows × 16 columns</p>\n",
       "</div>"
      ],
      "text/plain": [
       "       CUST_ID  gender DateOfBirth State       Contact   Segment    claim_id  \\\n",
       "0     21868593  Female   12-Jan-79    VT  789-916-8172  Platinum  54004764.0   \n",
       "1     75740424  Female   13-Jan-70    ME  265-543-1264    Silver  33985796.0   \n",
       "2     30308357  Female   11-Mar-84    TN  798-631-4758    Silver  53522022.0   \n",
       "3     30308357  Female   11-Mar-84    TN  798-631-4758    Silver  63017412.0   \n",
       "4     47830476  Female   01-May-86    MA  413-187-7945    Silver  13015401.0   \n",
       "...        ...     ...         ...   ...           ...       ...         ...   \n",
       "1087  79539873  Female   15-Mar-81    ND  459-425-4319  Platinum  62020796.0   \n",
       "1088  42364152  Female   07-Jul-96    ID  529-462-1635    Silver  63269067.0   \n",
       "1089  19888166    Male   11-Apr-90    WI  712-651-9613      Gold  22690595.0   \n",
       "1090  11256802  Female   22-Oct-64    LA  469-345-5617    Silver  12376894.0   \n",
       "1091  61575264    Male   12-Jul-95    WY  182-385-1392      Gold  63226031.0   \n",
       "\n",
       "      customer_id      incident_cause  claim_date claim_area police_report  \\\n",
       "0      21868593.0        Driver error  11/27/2017       Auto            No   \n",
       "1      75740424.0               Crime  10/03/2018       Home       Unknown   \n",
       "2      30308357.0  Other driver error  02/02/2018       Auto            No   \n",
       "3      30308357.0        Driver error  04/04/2018       Auto            No   \n",
       "4      47830476.0      Natural causes  06/17/2018       Auto            No   \n",
       "...           ...                 ...         ...        ...           ...   \n",
       "1087   79539873.0  Other driver error  09/06/2018       Auto           Yes   \n",
       "1088   42364152.0        Other causes  05/09/2017       Home            No   \n",
       "1089   19888166.0  Other driver error  05/15/2017       Auto           Yes   \n",
       "1090   11256802.0  Other driver error  04/18/2017       Auto            No   \n",
       "1091   61575264.0      Natural causes  03/16/2017       Auto            No   \n",
       "\n",
       "         claim_type claim_amount  total_policy_claims fraudulent  \n",
       "0     Material only        $2980                  1.0         No  \n",
       "1     Material only        $2980                  3.0         No  \n",
       "2     Material only      $3369.5                  1.0        Yes  \n",
       "3     Material only        $1950                  6.0         No  \n",
       "4     Material only        $1680                  1.0         No  \n",
       "...             ...          ...                  ...        ...  \n",
       "1087  Material only        $1770                  1.0         No  \n",
       "1088  Material only        $2800                  1.0         No  \n",
       "1089    Injury only       $33080                  2.0         No  \n",
       "1090  Material only        $2840                  4.0         No  \n",
       "1091  Material only        $1490                  1.0         No  \n",
       "\n",
       "[1092 rows x 16 columns]"
      ]
     },
     "execution_count": 233,
     "metadata": {},
     "output_type": "execute_result"
    }
   ],
   "source": [
    "#impoting the Customer data:- \n",
    "cust_data = pd.read_csv(\"C:/Users/dharmendra.sing1/Python Foundation Case Study 3 - Insurance Claims Case Study/cust_demographics.csv\")\n",
    "\n",
    "#importing the claim data:-\n",
    "claims_data = pd.read_csv(\"C:/Users/dharmendra.sing1/Python Foundation Case Study 3 - Insurance Claims Case Study/claims.csv\")\n",
    "\n",
    "#creating a new data set called df after merging the left join on cust data and claim data:- \n",
    "df=cust_data.merge(claims_data,left_on = \"CUST_ID\",right_on ='customer_id',how=\"left\")\n",
    "#printing the sample 10 rows of the df\n",
    "df\n",
    "\n"
   ]
  },
  {
   "cell_type": "code",
   "execution_count": 234,
   "id": "0a88b0db",
   "metadata": {},
   "outputs": [
    {
     "name": "stdout",
     "output_type": "stream",
     "text": [
      "<class 'pandas.core.frame.DataFrame'>\n",
      "Int64Index: 1092 entries, 0 to 1091\n",
      "Data columns (total 16 columns):\n",
      " #   Column               Non-Null Count  Dtype  \n",
      "---  ------               --------------  -----  \n",
      " 0   CUST_ID              1092 non-null   int64  \n",
      " 1   gender               1092 non-null   object \n",
      " 2   DateOfBirth          1092 non-null   object \n",
      " 3   State                1092 non-null   object \n",
      " 4   Contact              1092 non-null   object \n",
      " 5   Segment              1092 non-null   object \n",
      " 6   claim_id             1085 non-null   float64\n",
      " 7   customer_id          1085 non-null   float64\n",
      " 8   incident_cause       1085 non-null   object \n",
      " 9   claim_date           1085 non-null   object \n",
      " 10  claim_area           1085 non-null   object \n",
      " 11  police_report        1085 non-null   object \n",
      " 12  claim_type           1085 non-null   object \n",
      " 13  claim_amount         1020 non-null   object \n",
      " 14  total_policy_claims  1075 non-null   float64\n",
      " 15  fraudulent           1085 non-null   object \n",
      "dtypes: float64(3), int64(1), object(12)\n",
      "memory usage: 145.0+ KB\n"
     ]
    }
   ],
   "source": [
    "df.info()"
   ]
  },
  {
   "cell_type": "code",
   "execution_count": 235,
   "id": "e656e137",
   "metadata": {},
   "outputs": [
    {
     "name": "stdout",
     "output_type": "stream",
     "text": [
      "(1100, 10)\n",
      "(1085, 6)\n",
      "(1092, 16)\n"
     ]
    }
   ],
   "source": [
    "print(claims_data.shape)\n",
    "print(cust_data.shape)\n",
    "print(df.shape)"
   ]
  },
  {
   "cell_type": "markdown",
   "id": "57ab7b84",
   "metadata": {},
   "source": [
    "2. Perform a data audit for the datatypes and find out if there are any \n",
    "mismatch within the current datatypes of the columns and their \n",
    "business significance"
   ]
  },
  {
   "cell_type": "code",
   "execution_count": 236,
   "id": "5e5db890",
   "metadata": {},
   "outputs": [],
   "source": [
    "#converting datatype of date of birth and claim date from object to date\n",
    "df[\"DateOfBirth\"] = pd.to_datetime(df.DateOfBirth, format = \"%d-%b-%y\")\n",
    "df.loc[(df.DateOfBirth.dt\n",
    "             .year > 2020),\"DateOfBirth\"]=df[df.DateOfBirth.dt.year > 2020][\"DateOfBirth\"].apply(lambda x: x - pd.DateOffset(years=100))\n",
    "\n",
    "df[\"claim_date\"] = pd.to_datetime(df[\"claim_date\"], format=\"%m/%d/%Y\")"
   ]
  },
  {
   "cell_type": "code",
   "execution_count": 237,
   "id": "0d89a4a0",
   "metadata": {},
   "outputs": [
    {
     "name": "stdout",
     "output_type": "stream",
     "text": [
      "<class 'pandas.core.frame.DataFrame'>\n",
      "Int64Index: 1092 entries, 0 to 1091\n",
      "Data columns (total 16 columns):\n",
      " #   Column               Non-Null Count  Dtype         \n",
      "---  ------               --------------  -----         \n",
      " 0   CUST_ID              1092 non-null   int64         \n",
      " 1   gender               1092 non-null   object        \n",
      " 2   DateOfBirth          1092 non-null   datetime64[ns]\n",
      " 3   State                1092 non-null   object        \n",
      " 4   Contact              1092 non-null   object        \n",
      " 5   Segment              1092 non-null   object        \n",
      " 6   claim_id             1085 non-null   float64       \n",
      " 7   customer_id          1085 non-null   float64       \n",
      " 8   incident_cause       1085 non-null   object        \n",
      " 9   claim_date           1085 non-null   datetime64[ns]\n",
      " 10  claim_area           1085 non-null   object        \n",
      " 11  police_report        1085 non-null   object        \n",
      " 12  claim_type           1085 non-null   object        \n",
      " 13  claim_amount         1020 non-null   object        \n",
      " 14  total_policy_claims  1075 non-null   float64       \n",
      " 15  fraudulent           1085 non-null   object        \n",
      "dtypes: datetime64[ns](2), float64(3), int64(1), object(10)\n",
      "memory usage: 145.0+ KB\n"
     ]
    }
   ],
   "source": [
    "df.info()"
   ]
  },
  {
   "cell_type": "markdown",
   "id": "f4e1a3e3",
   "metadata": {},
   "source": [
    "Convert the column claim_amount to numeric. Use the appropriate \n",
    "modules/attributes to remove the $ sign."
   ]
  },
  {
   "cell_type": "code",
   "execution_count": 238,
   "id": "b5f250ba",
   "metadata": {},
   "outputs": [
    {
     "name": "stderr",
     "output_type": "stream",
     "text": [
      "C:\\Users\\DHARME~1.SIN\\AppData\\Local\\Temp/ipykernel_15956/3447059348.py:1: FutureWarning: The default value of regex will change from True to False in a future version. In addition, single character regular expressions will *not* be treated as literal strings when regex=True.\n",
      "  df[\"claim_amount\"]=df.claim_amount.str.replace('$', '').astype(float)\n"
     ]
    },
    {
     "data": {
      "text/html": [
       "<div>\n",
       "<style scoped>\n",
       "    .dataframe tbody tr th:only-of-type {\n",
       "        vertical-align: middle;\n",
       "    }\n",
       "\n",
       "    .dataframe tbody tr th {\n",
       "        vertical-align: top;\n",
       "    }\n",
       "\n",
       "    .dataframe thead th {\n",
       "        text-align: right;\n",
       "    }\n",
       "</style>\n",
       "<table border=\"1\" class=\"dataframe\">\n",
       "  <thead>\n",
       "    <tr style=\"text-align: right;\">\n",
       "      <th></th>\n",
       "      <th>CUST_ID</th>\n",
       "      <th>gender</th>\n",
       "      <th>DateOfBirth</th>\n",
       "      <th>State</th>\n",
       "      <th>Contact</th>\n",
       "      <th>Segment</th>\n",
       "      <th>claim_id</th>\n",
       "      <th>customer_id</th>\n",
       "      <th>incident_cause</th>\n",
       "      <th>claim_date</th>\n",
       "      <th>claim_area</th>\n",
       "      <th>police_report</th>\n",
       "      <th>claim_type</th>\n",
       "      <th>claim_amount</th>\n",
       "      <th>total_policy_claims</th>\n",
       "      <th>fraudulent</th>\n",
       "    </tr>\n",
       "  </thead>\n",
       "  <tbody>\n",
       "    <tr>\n",
       "      <th>0</th>\n",
       "      <td>21868593</td>\n",
       "      <td>Female</td>\n",
       "      <td>1979-01-12</td>\n",
       "      <td>VT</td>\n",
       "      <td>789-916-8172</td>\n",
       "      <td>Platinum</td>\n",
       "      <td>54004764.0</td>\n",
       "      <td>21868593.0</td>\n",
       "      <td>Driver error</td>\n",
       "      <td>2017-11-27</td>\n",
       "      <td>Auto</td>\n",
       "      <td>No</td>\n",
       "      <td>Material only</td>\n",
       "      <td>2980.0</td>\n",
       "      <td>1.0</td>\n",
       "      <td>No</td>\n",
       "    </tr>\n",
       "    <tr>\n",
       "      <th>1</th>\n",
       "      <td>75740424</td>\n",
       "      <td>Female</td>\n",
       "      <td>1970-01-13</td>\n",
       "      <td>ME</td>\n",
       "      <td>265-543-1264</td>\n",
       "      <td>Silver</td>\n",
       "      <td>33985796.0</td>\n",
       "      <td>75740424.0</td>\n",
       "      <td>Crime</td>\n",
       "      <td>2018-10-03</td>\n",
       "      <td>Home</td>\n",
       "      <td>Unknown</td>\n",
       "      <td>Material only</td>\n",
       "      <td>2980.0</td>\n",
       "      <td>3.0</td>\n",
       "      <td>No</td>\n",
       "    </tr>\n",
       "    <tr>\n",
       "      <th>2</th>\n",
       "      <td>30308357</td>\n",
       "      <td>Female</td>\n",
       "      <td>1984-03-11</td>\n",
       "      <td>TN</td>\n",
       "      <td>798-631-4758</td>\n",
       "      <td>Silver</td>\n",
       "      <td>53522022.0</td>\n",
       "      <td>30308357.0</td>\n",
       "      <td>Other driver error</td>\n",
       "      <td>2018-02-02</td>\n",
       "      <td>Auto</td>\n",
       "      <td>No</td>\n",
       "      <td>Material only</td>\n",
       "      <td>3369.5</td>\n",
       "      <td>1.0</td>\n",
       "      <td>Yes</td>\n",
       "    </tr>\n",
       "    <tr>\n",
       "      <th>3</th>\n",
       "      <td>30308357</td>\n",
       "      <td>Female</td>\n",
       "      <td>1984-03-11</td>\n",
       "      <td>TN</td>\n",
       "      <td>798-631-4758</td>\n",
       "      <td>Silver</td>\n",
       "      <td>63017412.0</td>\n",
       "      <td>30308357.0</td>\n",
       "      <td>Driver error</td>\n",
       "      <td>2018-04-04</td>\n",
       "      <td>Auto</td>\n",
       "      <td>No</td>\n",
       "      <td>Material only</td>\n",
       "      <td>1950.0</td>\n",
       "      <td>6.0</td>\n",
       "      <td>No</td>\n",
       "    </tr>\n",
       "    <tr>\n",
       "      <th>4</th>\n",
       "      <td>47830476</td>\n",
       "      <td>Female</td>\n",
       "      <td>1986-05-01</td>\n",
       "      <td>MA</td>\n",
       "      <td>413-187-7945</td>\n",
       "      <td>Silver</td>\n",
       "      <td>13015401.0</td>\n",
       "      <td>47830476.0</td>\n",
       "      <td>Natural causes</td>\n",
       "      <td>2018-06-17</td>\n",
       "      <td>Auto</td>\n",
       "      <td>No</td>\n",
       "      <td>Material only</td>\n",
       "      <td>1680.0</td>\n",
       "      <td>1.0</td>\n",
       "      <td>No</td>\n",
       "    </tr>\n",
       "    <tr>\n",
       "      <th>...</th>\n",
       "      <td>...</td>\n",
       "      <td>...</td>\n",
       "      <td>...</td>\n",
       "      <td>...</td>\n",
       "      <td>...</td>\n",
       "      <td>...</td>\n",
       "      <td>...</td>\n",
       "      <td>...</td>\n",
       "      <td>...</td>\n",
       "      <td>...</td>\n",
       "      <td>...</td>\n",
       "      <td>...</td>\n",
       "      <td>...</td>\n",
       "      <td>...</td>\n",
       "      <td>...</td>\n",
       "      <td>...</td>\n",
       "    </tr>\n",
       "    <tr>\n",
       "      <th>1087</th>\n",
       "      <td>79539873</td>\n",
       "      <td>Female</td>\n",
       "      <td>1981-03-15</td>\n",
       "      <td>ND</td>\n",
       "      <td>459-425-4319</td>\n",
       "      <td>Platinum</td>\n",
       "      <td>62020796.0</td>\n",
       "      <td>79539873.0</td>\n",
       "      <td>Other driver error</td>\n",
       "      <td>2018-09-06</td>\n",
       "      <td>Auto</td>\n",
       "      <td>Yes</td>\n",
       "      <td>Material only</td>\n",
       "      <td>1770.0</td>\n",
       "      <td>1.0</td>\n",
       "      <td>No</td>\n",
       "    </tr>\n",
       "    <tr>\n",
       "      <th>1088</th>\n",
       "      <td>42364152</td>\n",
       "      <td>Female</td>\n",
       "      <td>1996-07-07</td>\n",
       "      <td>ID</td>\n",
       "      <td>529-462-1635</td>\n",
       "      <td>Silver</td>\n",
       "      <td>63269067.0</td>\n",
       "      <td>42364152.0</td>\n",
       "      <td>Other causes</td>\n",
       "      <td>2017-05-09</td>\n",
       "      <td>Home</td>\n",
       "      <td>No</td>\n",
       "      <td>Material only</td>\n",
       "      <td>2800.0</td>\n",
       "      <td>1.0</td>\n",
       "      <td>No</td>\n",
       "    </tr>\n",
       "    <tr>\n",
       "      <th>1089</th>\n",
       "      <td>19888166</td>\n",
       "      <td>Male</td>\n",
       "      <td>1990-04-11</td>\n",
       "      <td>WI</td>\n",
       "      <td>712-651-9613</td>\n",
       "      <td>Gold</td>\n",
       "      <td>22690595.0</td>\n",
       "      <td>19888166.0</td>\n",
       "      <td>Other driver error</td>\n",
       "      <td>2017-05-15</td>\n",
       "      <td>Auto</td>\n",
       "      <td>Yes</td>\n",
       "      <td>Injury only</td>\n",
       "      <td>33080.0</td>\n",
       "      <td>2.0</td>\n",
       "      <td>No</td>\n",
       "    </tr>\n",
       "    <tr>\n",
       "      <th>1090</th>\n",
       "      <td>11256802</td>\n",
       "      <td>Female</td>\n",
       "      <td>1964-10-22</td>\n",
       "      <td>LA</td>\n",
       "      <td>469-345-5617</td>\n",
       "      <td>Silver</td>\n",
       "      <td>12376894.0</td>\n",
       "      <td>11256802.0</td>\n",
       "      <td>Other driver error</td>\n",
       "      <td>2017-04-18</td>\n",
       "      <td>Auto</td>\n",
       "      <td>No</td>\n",
       "      <td>Material only</td>\n",
       "      <td>2840.0</td>\n",
       "      <td>4.0</td>\n",
       "      <td>No</td>\n",
       "    </tr>\n",
       "    <tr>\n",
       "      <th>1091</th>\n",
       "      <td>61575264</td>\n",
       "      <td>Male</td>\n",
       "      <td>1995-07-12</td>\n",
       "      <td>WY</td>\n",
       "      <td>182-385-1392</td>\n",
       "      <td>Gold</td>\n",
       "      <td>63226031.0</td>\n",
       "      <td>61575264.0</td>\n",
       "      <td>Natural causes</td>\n",
       "      <td>2017-03-16</td>\n",
       "      <td>Auto</td>\n",
       "      <td>No</td>\n",
       "      <td>Material only</td>\n",
       "      <td>1490.0</td>\n",
       "      <td>1.0</td>\n",
       "      <td>No</td>\n",
       "    </tr>\n",
       "  </tbody>\n",
       "</table>\n",
       "<p>1092 rows × 16 columns</p>\n",
       "</div>"
      ],
      "text/plain": [
       "       CUST_ID  gender DateOfBirth State       Contact   Segment    claim_id  \\\n",
       "0     21868593  Female  1979-01-12    VT  789-916-8172  Platinum  54004764.0   \n",
       "1     75740424  Female  1970-01-13    ME  265-543-1264    Silver  33985796.0   \n",
       "2     30308357  Female  1984-03-11    TN  798-631-4758    Silver  53522022.0   \n",
       "3     30308357  Female  1984-03-11    TN  798-631-4758    Silver  63017412.0   \n",
       "4     47830476  Female  1986-05-01    MA  413-187-7945    Silver  13015401.0   \n",
       "...        ...     ...         ...   ...           ...       ...         ...   \n",
       "1087  79539873  Female  1981-03-15    ND  459-425-4319  Platinum  62020796.0   \n",
       "1088  42364152  Female  1996-07-07    ID  529-462-1635    Silver  63269067.0   \n",
       "1089  19888166    Male  1990-04-11    WI  712-651-9613      Gold  22690595.0   \n",
       "1090  11256802  Female  1964-10-22    LA  469-345-5617    Silver  12376894.0   \n",
       "1091  61575264    Male  1995-07-12    WY  182-385-1392      Gold  63226031.0   \n",
       "\n",
       "      customer_id      incident_cause claim_date claim_area police_report  \\\n",
       "0      21868593.0        Driver error 2017-11-27       Auto            No   \n",
       "1      75740424.0               Crime 2018-10-03       Home       Unknown   \n",
       "2      30308357.0  Other driver error 2018-02-02       Auto            No   \n",
       "3      30308357.0        Driver error 2018-04-04       Auto            No   \n",
       "4      47830476.0      Natural causes 2018-06-17       Auto            No   \n",
       "...           ...                 ...        ...        ...           ...   \n",
       "1087   79539873.0  Other driver error 2018-09-06       Auto           Yes   \n",
       "1088   42364152.0        Other causes 2017-05-09       Home            No   \n",
       "1089   19888166.0  Other driver error 2017-05-15       Auto           Yes   \n",
       "1090   11256802.0  Other driver error 2017-04-18       Auto            No   \n",
       "1091   61575264.0      Natural causes 2017-03-16       Auto            No   \n",
       "\n",
       "         claim_type  claim_amount  total_policy_claims fraudulent  \n",
       "0     Material only        2980.0                  1.0         No  \n",
       "1     Material only        2980.0                  3.0         No  \n",
       "2     Material only        3369.5                  1.0        Yes  \n",
       "3     Material only        1950.0                  6.0         No  \n",
       "4     Material only        1680.0                  1.0         No  \n",
       "...             ...           ...                  ...        ...  \n",
       "1087  Material only        1770.0                  1.0         No  \n",
       "1088  Material only        2800.0                  1.0         No  \n",
       "1089    Injury only       33080.0                  2.0         No  \n",
       "1090  Material only        2840.0                  4.0         No  \n",
       "1091  Material only        1490.0                  1.0         No  \n",
       "\n",
       "[1092 rows x 16 columns]"
      ]
     },
     "execution_count": 238,
     "metadata": {},
     "output_type": "execute_result"
    }
   ],
   "source": [
    "df[\"claim_amount\"]=df.claim_amount.str.replace('$', '').astype(float)\n",
    "\n",
    "df"
   ]
  },
  {
   "cell_type": "markdown",
   "id": "b575366b",
   "metadata": {},
   "source": [
    "4. Of all the injury claims, some of them have gone unreported with the \n",
    "police. Create an alert flag (1,0) for all such claims."
   ]
  },
  {
   "cell_type": "code",
   "execution_count": 239,
   "id": "c23e10ee",
   "metadata": {},
   "outputs": [],
   "source": [
    "#claum type is injury only and police_repot is No then the flag is '1' else '0'\n",
    "\n",
    "df['flag']=np.where(((df.claim_type =='Injury only') & (df.police_report == 'No')),'1','0' )"
   ]
  },
  {
   "cell_type": "markdown",
   "id": "a0045186",
   "metadata": {},
   "source": [
    "5. One customer can claim for insurance more than once and in each claim,\n",
    "multiple categories of claims can be involved. However, customer ID \n",
    "should remain unique. \n",
    "Retain the most recent observation and delete any duplicated records in\n",
    "the data based on the customer ID column."
   ]
  },
  {
   "cell_type": "code",
   "execution_count": 240,
   "id": "5ff2af24",
   "metadata": {},
   "outputs": [
    {
     "data": {
      "text/html": [
       "<div>\n",
       "<style scoped>\n",
       "    .dataframe tbody tr th:only-of-type {\n",
       "        vertical-align: middle;\n",
       "    }\n",
       "\n",
       "    .dataframe tbody tr th {\n",
       "        vertical-align: top;\n",
       "    }\n",
       "\n",
       "    .dataframe thead th {\n",
       "        text-align: right;\n",
       "    }\n",
       "</style>\n",
       "<table border=\"1\" class=\"dataframe\">\n",
       "  <thead>\n",
       "    <tr style=\"text-align: right;\">\n",
       "      <th></th>\n",
       "      <th>CUST_ID</th>\n",
       "      <th>gender</th>\n",
       "      <th>DateOfBirth</th>\n",
       "      <th>State</th>\n",
       "      <th>Contact</th>\n",
       "      <th>Segment</th>\n",
       "      <th>claim_id</th>\n",
       "      <th>customer_id</th>\n",
       "      <th>incident_cause</th>\n",
       "      <th>claim_date</th>\n",
       "      <th>claim_area</th>\n",
       "      <th>police_report</th>\n",
       "      <th>claim_type</th>\n",
       "      <th>claim_amount</th>\n",
       "      <th>total_policy_claims</th>\n",
       "      <th>fraudulent</th>\n",
       "      <th>flag</th>\n",
       "    </tr>\n",
       "  </thead>\n",
       "  <tbody>\n",
       "    <tr>\n",
       "      <th>0</th>\n",
       "      <td>21868593</td>\n",
       "      <td>Female</td>\n",
       "      <td>1979-01-12</td>\n",
       "      <td>VT</td>\n",
       "      <td>789-916-8172</td>\n",
       "      <td>Platinum</td>\n",
       "      <td>54004764.0</td>\n",
       "      <td>21868593.0</td>\n",
       "      <td>Driver error</td>\n",
       "      <td>2017-11-27</td>\n",
       "      <td>Auto</td>\n",
       "      <td>No</td>\n",
       "      <td>Material only</td>\n",
       "      <td>2980.0</td>\n",
       "      <td>1.0</td>\n",
       "      <td>No</td>\n",
       "      <td>0</td>\n",
       "    </tr>\n",
       "    <tr>\n",
       "      <th>1</th>\n",
       "      <td>75740424</td>\n",
       "      <td>Female</td>\n",
       "      <td>1970-01-13</td>\n",
       "      <td>ME</td>\n",
       "      <td>265-543-1264</td>\n",
       "      <td>Silver</td>\n",
       "      <td>33985796.0</td>\n",
       "      <td>75740424.0</td>\n",
       "      <td>Crime</td>\n",
       "      <td>2018-10-03</td>\n",
       "      <td>Home</td>\n",
       "      <td>Unknown</td>\n",
       "      <td>Material only</td>\n",
       "      <td>2980.0</td>\n",
       "      <td>3.0</td>\n",
       "      <td>No</td>\n",
       "      <td>0</td>\n",
       "    </tr>\n",
       "    <tr>\n",
       "      <th>2</th>\n",
       "      <td>30308357</td>\n",
       "      <td>Female</td>\n",
       "      <td>1984-03-11</td>\n",
       "      <td>TN</td>\n",
       "      <td>798-631-4758</td>\n",
       "      <td>Silver</td>\n",
       "      <td>53522022.0</td>\n",
       "      <td>30308357.0</td>\n",
       "      <td>Other driver error</td>\n",
       "      <td>2018-02-02</td>\n",
       "      <td>Auto</td>\n",
       "      <td>No</td>\n",
       "      <td>Material only</td>\n",
       "      <td>3369.5</td>\n",
       "      <td>1.0</td>\n",
       "      <td>Yes</td>\n",
       "      <td>0</td>\n",
       "    </tr>\n",
       "    <tr>\n",
       "      <th>4</th>\n",
       "      <td>47830476</td>\n",
       "      <td>Female</td>\n",
       "      <td>1986-05-01</td>\n",
       "      <td>MA</td>\n",
       "      <td>413-187-7945</td>\n",
       "      <td>Silver</td>\n",
       "      <td>13015401.0</td>\n",
       "      <td>47830476.0</td>\n",
       "      <td>Natural causes</td>\n",
       "      <td>2018-06-17</td>\n",
       "      <td>Auto</td>\n",
       "      <td>No</td>\n",
       "      <td>Material only</td>\n",
       "      <td>1680.0</td>\n",
       "      <td>1.0</td>\n",
       "      <td>No</td>\n",
       "      <td>0</td>\n",
       "    </tr>\n",
       "    <tr>\n",
       "      <th>6</th>\n",
       "      <td>19269962</td>\n",
       "      <td>Male</td>\n",
       "      <td>1977-05-13</td>\n",
       "      <td>NV</td>\n",
       "      <td>956-871-8691</td>\n",
       "      <td>Gold</td>\n",
       "      <td>22890252.0</td>\n",
       "      <td>19269962.0</td>\n",
       "      <td>Crime</td>\n",
       "      <td>2018-01-13</td>\n",
       "      <td>Auto</td>\n",
       "      <td>No</td>\n",
       "      <td>Material only</td>\n",
       "      <td>2680.0</td>\n",
       "      <td>1.0</td>\n",
       "      <td>No</td>\n",
       "      <td>0</td>\n",
       "    </tr>\n",
       "    <tr>\n",
       "      <th>...</th>\n",
       "      <td>...</td>\n",
       "      <td>...</td>\n",
       "      <td>...</td>\n",
       "      <td>...</td>\n",
       "      <td>...</td>\n",
       "      <td>...</td>\n",
       "      <td>...</td>\n",
       "      <td>...</td>\n",
       "      <td>...</td>\n",
       "      <td>...</td>\n",
       "      <td>...</td>\n",
       "      <td>...</td>\n",
       "      <td>...</td>\n",
       "      <td>...</td>\n",
       "      <td>...</td>\n",
       "      <td>...</td>\n",
       "      <td>...</td>\n",
       "    </tr>\n",
       "    <tr>\n",
       "      <th>1087</th>\n",
       "      <td>79539873</td>\n",
       "      <td>Female</td>\n",
       "      <td>1981-03-15</td>\n",
       "      <td>ND</td>\n",
       "      <td>459-425-4319</td>\n",
       "      <td>Platinum</td>\n",
       "      <td>62020796.0</td>\n",
       "      <td>79539873.0</td>\n",
       "      <td>Other driver error</td>\n",
       "      <td>2018-09-06</td>\n",
       "      <td>Auto</td>\n",
       "      <td>Yes</td>\n",
       "      <td>Material only</td>\n",
       "      <td>1770.0</td>\n",
       "      <td>1.0</td>\n",
       "      <td>No</td>\n",
       "      <td>0</td>\n",
       "    </tr>\n",
       "    <tr>\n",
       "      <th>1088</th>\n",
       "      <td>42364152</td>\n",
       "      <td>Female</td>\n",
       "      <td>1996-07-07</td>\n",
       "      <td>ID</td>\n",
       "      <td>529-462-1635</td>\n",
       "      <td>Silver</td>\n",
       "      <td>63269067.0</td>\n",
       "      <td>42364152.0</td>\n",
       "      <td>Other causes</td>\n",
       "      <td>2017-05-09</td>\n",
       "      <td>Home</td>\n",
       "      <td>No</td>\n",
       "      <td>Material only</td>\n",
       "      <td>2800.0</td>\n",
       "      <td>1.0</td>\n",
       "      <td>No</td>\n",
       "      <td>0</td>\n",
       "    </tr>\n",
       "    <tr>\n",
       "      <th>1089</th>\n",
       "      <td>19888166</td>\n",
       "      <td>Male</td>\n",
       "      <td>1990-04-11</td>\n",
       "      <td>WI</td>\n",
       "      <td>712-651-9613</td>\n",
       "      <td>Gold</td>\n",
       "      <td>22690595.0</td>\n",
       "      <td>19888166.0</td>\n",
       "      <td>Other driver error</td>\n",
       "      <td>2017-05-15</td>\n",
       "      <td>Auto</td>\n",
       "      <td>Yes</td>\n",
       "      <td>Injury only</td>\n",
       "      <td>33080.0</td>\n",
       "      <td>2.0</td>\n",
       "      <td>No</td>\n",
       "      <td>0</td>\n",
       "    </tr>\n",
       "    <tr>\n",
       "      <th>1090</th>\n",
       "      <td>11256802</td>\n",
       "      <td>Female</td>\n",
       "      <td>1964-10-22</td>\n",
       "      <td>LA</td>\n",
       "      <td>469-345-5617</td>\n",
       "      <td>Silver</td>\n",
       "      <td>12376894.0</td>\n",
       "      <td>11256802.0</td>\n",
       "      <td>Other driver error</td>\n",
       "      <td>2017-04-18</td>\n",
       "      <td>Auto</td>\n",
       "      <td>No</td>\n",
       "      <td>Material only</td>\n",
       "      <td>2840.0</td>\n",
       "      <td>4.0</td>\n",
       "      <td>No</td>\n",
       "      <td>0</td>\n",
       "    </tr>\n",
       "    <tr>\n",
       "      <th>1091</th>\n",
       "      <td>61575264</td>\n",
       "      <td>Male</td>\n",
       "      <td>1995-07-12</td>\n",
       "      <td>WY</td>\n",
       "      <td>182-385-1392</td>\n",
       "      <td>Gold</td>\n",
       "      <td>63226031.0</td>\n",
       "      <td>61575264.0</td>\n",
       "      <td>Natural causes</td>\n",
       "      <td>2017-03-16</td>\n",
       "      <td>Auto</td>\n",
       "      <td>No</td>\n",
       "      <td>Material only</td>\n",
       "      <td>1490.0</td>\n",
       "      <td>1.0</td>\n",
       "      <td>No</td>\n",
       "      <td>0</td>\n",
       "    </tr>\n",
       "  </tbody>\n",
       "</table>\n",
       "<p>1085 rows × 17 columns</p>\n",
       "</div>"
      ],
      "text/plain": [
       "       CUST_ID  gender DateOfBirth State       Contact   Segment    claim_id  \\\n",
       "0     21868593  Female  1979-01-12    VT  789-916-8172  Platinum  54004764.0   \n",
       "1     75740424  Female  1970-01-13    ME  265-543-1264    Silver  33985796.0   \n",
       "2     30308357  Female  1984-03-11    TN  798-631-4758    Silver  53522022.0   \n",
       "4     47830476  Female  1986-05-01    MA  413-187-7945    Silver  13015401.0   \n",
       "6     19269962    Male  1977-05-13    NV  956-871-8691      Gold  22890252.0   \n",
       "...        ...     ...         ...   ...           ...       ...         ...   \n",
       "1087  79539873  Female  1981-03-15    ND  459-425-4319  Platinum  62020796.0   \n",
       "1088  42364152  Female  1996-07-07    ID  529-462-1635    Silver  63269067.0   \n",
       "1089  19888166    Male  1990-04-11    WI  712-651-9613      Gold  22690595.0   \n",
       "1090  11256802  Female  1964-10-22    LA  469-345-5617    Silver  12376894.0   \n",
       "1091  61575264    Male  1995-07-12    WY  182-385-1392      Gold  63226031.0   \n",
       "\n",
       "      customer_id      incident_cause claim_date claim_area police_report  \\\n",
       "0      21868593.0        Driver error 2017-11-27       Auto            No   \n",
       "1      75740424.0               Crime 2018-10-03       Home       Unknown   \n",
       "2      30308357.0  Other driver error 2018-02-02       Auto            No   \n",
       "4      47830476.0      Natural causes 2018-06-17       Auto            No   \n",
       "6      19269962.0               Crime 2018-01-13       Auto            No   \n",
       "...           ...                 ...        ...        ...           ...   \n",
       "1087   79539873.0  Other driver error 2018-09-06       Auto           Yes   \n",
       "1088   42364152.0        Other causes 2017-05-09       Home            No   \n",
       "1089   19888166.0  Other driver error 2017-05-15       Auto           Yes   \n",
       "1090   11256802.0  Other driver error 2017-04-18       Auto            No   \n",
       "1091   61575264.0      Natural causes 2017-03-16       Auto            No   \n",
       "\n",
       "         claim_type  claim_amount  total_policy_claims fraudulent flag  \n",
       "0     Material only        2980.0                  1.0         No    0  \n",
       "1     Material only        2980.0                  3.0         No    0  \n",
       "2     Material only        3369.5                  1.0        Yes    0  \n",
       "4     Material only        1680.0                  1.0         No    0  \n",
       "6     Material only        2680.0                  1.0         No    0  \n",
       "...             ...           ...                  ...        ...  ...  \n",
       "1087  Material only        1770.0                  1.0         No    0  \n",
       "1088  Material only        2800.0                  1.0         No    0  \n",
       "1089    Injury only       33080.0                  2.0         No    0  \n",
       "1090  Material only        2840.0                  4.0         No    0  \n",
       "1091  Material only        1490.0                  1.0         No    0  \n",
       "\n",
       "[1085 rows x 17 columns]"
      ]
     },
     "execution_count": 240,
     "metadata": {},
     "output_type": "execute_result"
    }
   ],
   "source": [
    "df.drop_duplicates(subset =\"CUST_ID\",inplace=True)\n",
    "df"
   ]
  },
  {
   "cell_type": "markdown",
   "id": "b4e4f4a1",
   "metadata": {},
   "source": [
    "6.Check for missing values and impute the missing values with an \n",
    "appropriate value. (mean for continuous and mode for categorical)"
   ]
  },
  {
   "cell_type": "code",
   "execution_count": 241,
   "id": "e42507f1",
   "metadata": {},
   "outputs": [
    {
     "name": "stdout",
     "output_type": "stream",
     "text": [
      "total count of the missing value is \n",
      " CUST_ID                 0\n",
      "gender                  0\n",
      "DateOfBirth             0\n",
      "State                   0\n",
      "Contact                 0\n",
      "Segment                 0\n",
      "claim_id                7\n",
      "customer_id             7\n",
      "incident_cause          7\n",
      "claim_date              7\n",
      "claim_area              7\n",
      "police_report           7\n",
      "claim_type              7\n",
      "claim_amount           72\n",
      "total_policy_claims    17\n",
      "fraudulent              7\n",
      "flag                    0\n",
      "dtype: int64\n",
      "total count of the missing value is \n",
      " CUST_ID                0\n",
      "gender                 0\n",
      "DateOfBirth            0\n",
      "State                  0\n",
      "Contact                0\n",
      "Segment                0\n",
      "claim_id               0\n",
      "customer_id            0\n",
      "incident_cause         0\n",
      "claim_date             0\n",
      "claim_area             0\n",
      "police_report          0\n",
      "claim_type             0\n",
      "claim_amount           0\n",
      "total_policy_claims    0\n",
      "fraudulent             0\n",
      "flag                   0\n",
      "dtype: int64\n",
      "<class 'pandas.core.frame.DataFrame'>\n",
      "Int64Index: 1078 entries, 0 to 1091\n",
      "Data columns (total 17 columns):\n",
      " #   Column               Non-Null Count  Dtype         \n",
      "---  ------               --------------  -----         \n",
      " 0   CUST_ID              1078 non-null   int64         \n",
      " 1   gender               1078 non-null   object        \n",
      " 2   DateOfBirth          1078 non-null   datetime64[ns]\n",
      " 3   State                1078 non-null   object        \n",
      " 4   Contact              1078 non-null   object        \n",
      " 5   Segment              1078 non-null   object        \n",
      " 6   claim_id             1078 non-null   float64       \n",
      " 7   customer_id          1078 non-null   float64       \n",
      " 8   incident_cause       1078 non-null   object        \n",
      " 9   claim_date           1078 non-null   datetime64[ns]\n",
      " 10  claim_area           1078 non-null   object        \n",
      " 11  police_report        1078 non-null   object        \n",
      " 12  claim_type           1078 non-null   object        \n",
      " 13  claim_amount         1078 non-null   float64       \n",
      " 14  total_policy_claims  1078 non-null   float64       \n",
      " 15  fraudulent           1078 non-null   object        \n",
      " 16  flag                 1078 non-null   object        \n",
      "dtypes: datetime64[ns](2), float64(4), int64(1), object(10)\n",
      "memory usage: 151.6+ KB\n",
      "None\n"
     ]
    }
   ],
   "source": [
    "#calculating the total missing values:- \n",
    "a=df.isna().sum()\n",
    "print(\"total count of the missing value is \\n\",a)\n",
    "\n",
    "#fill the mising values of claim amount and total policy claim with there mean values.\n",
    "df.claim_amount.fillna(value=df.claim_amount.mean(),inplace=True)\n",
    "df.total_policy_claims.fillna(value=df.total_policy_claims.mean(),inplace=True)\n",
    "\n",
    "#now we are dropping all the missing rows\n",
    "df.dropna(axis=0,inplace=True)\n",
    "\n",
    "#calculating the total missing values after the missing value treatment:- \n",
    "b=df.isna().sum()\n",
    "print(\"total count of the missing value is \\n\",b)\n",
    "print(df.info())\n",
    "\n"
   ]
  },
  {
   "cell_type": "markdown",
   "id": "6ac4c109",
   "metadata": {},
   "source": [
    "7. Calculate the age of customers in years. Based on the age, categorize the\n",
    "customers according to the below criteria\n",
    "\n",
    "Children < 18\n",
    "\n",
    "Youth 18-30\n",
    "\n",
    "Adult 30-60|\n",
    "\n",
    "Senior > 60\n"
   ]
  },
  {
   "cell_type": "code",
   "execution_count": 242,
   "id": "4eb4cfa7",
   "metadata": {},
   "outputs": [],
   "source": [
    "#creating new column of age after extraction the dob fo the costumer from the today date:- \n",
    "df[\"age\"]=int(pd.Timestamp.now().year)-df.DateOfBirth.dt.year.astype(int)\n",
    "#categorizing the age with the help of bins:-\n",
    "\n",
    "df[\"age_bins\"] = pd.cut(x=df[\"age\"],bins=[1, 17, 29,59, np.inf],labels=[\"Children\",\"youth\",\"adult\",\"Senior\"])"
   ]
  },
  {
   "cell_type": "code",
   "execution_count": 243,
   "id": "788a222e",
   "metadata": {},
   "outputs": [
    {
     "data": {
      "text/html": [
       "<div>\n",
       "<style scoped>\n",
       "    .dataframe tbody tr th:only-of-type {\n",
       "        vertical-align: middle;\n",
       "    }\n",
       "\n",
       "    .dataframe tbody tr th {\n",
       "        vertical-align: top;\n",
       "    }\n",
       "\n",
       "    .dataframe thead th {\n",
       "        text-align: right;\n",
       "    }\n",
       "</style>\n",
       "<table border=\"1\" class=\"dataframe\">\n",
       "  <thead>\n",
       "    <tr style=\"text-align: right;\">\n",
       "      <th></th>\n",
       "      <th>age_bins</th>\n",
       "      <th>CUST_ID</th>\n",
       "    </tr>\n",
       "  </thead>\n",
       "  <tbody>\n",
       "    <tr>\n",
       "      <th>0</th>\n",
       "      <td>Children</td>\n",
       "      <td>0</td>\n",
       "    </tr>\n",
       "    <tr>\n",
       "      <th>1</th>\n",
       "      <td>youth</td>\n",
       "      <td>208</td>\n",
       "    </tr>\n",
       "    <tr>\n",
       "      <th>2</th>\n",
       "      <td>adult</td>\n",
       "      <td>795</td>\n",
       "    </tr>\n",
       "    <tr>\n",
       "      <th>3</th>\n",
       "      <td>Senior</td>\n",
       "      <td>75</td>\n",
       "    </tr>\n",
       "  </tbody>\n",
       "</table>\n",
       "</div>"
      ],
      "text/plain": [
       "   age_bins  CUST_ID\n",
       "0  Children        0\n",
       "1     youth      208\n",
       "2     adult      795\n",
       "3    Senior       75"
      ]
     },
     "execution_count": 243,
     "metadata": {},
     "output_type": "execute_result"
    }
   ],
   "source": [
    "df.groupby(by = \"age_bins\").count().reset_index().iloc[:,0:2]"
   ]
  },
  {
   "cell_type": "markdown",
   "id": "52c5de4f",
   "metadata": {},
   "source": [
    "8. What is the average amount claimed by the customers from various \n",
    "segments?\n"
   ]
  },
  {
   "cell_type": "code",
   "execution_count": 244,
   "id": "966edce1",
   "metadata": {},
   "outputs": [
    {
     "data": {
      "text/html": [
       "<div>\n",
       "<style scoped>\n",
       "    .dataframe tbody tr th:only-of-type {\n",
       "        vertical-align: middle;\n",
       "    }\n",
       "\n",
       "    .dataframe tbody tr th {\n",
       "        vertical-align: top;\n",
       "    }\n",
       "\n",
       "    .dataframe thead th {\n",
       "        text-align: right;\n",
       "    }\n",
       "</style>\n",
       "<table border=\"1\" class=\"dataframe\">\n",
       "  <thead>\n",
       "    <tr style=\"text-align: right;\">\n",
       "      <th></th>\n",
       "      <th>claim_amount</th>\n",
       "    </tr>\n",
       "    <tr>\n",
       "      <th>Segment</th>\n",
       "      <th></th>\n",
       "    </tr>\n",
       "  </thead>\n",
       "  <tbody>\n",
       "    <tr>\n",
       "      <th>Gold</th>\n",
       "      <td>12756.479697</td>\n",
       "    </tr>\n",
       "    <tr>\n",
       "      <th>Platinum</th>\n",
       "      <td>12369.304648</td>\n",
       "    </tr>\n",
       "    <tr>\n",
       "      <th>Silver</th>\n",
       "      <td>12269.434851</td>\n",
       "    </tr>\n",
       "  </tbody>\n",
       "</table>\n",
       "</div>"
      ],
      "text/plain": [
       "          claim_amount\n",
       "Segment               \n",
       "Gold      12756.479697\n",
       "Platinum  12369.304648\n",
       "Silver    12269.434851"
      ]
     },
     "execution_count": 244,
     "metadata": {},
     "output_type": "execute_result"
    }
   ],
   "source": [
    "df.pivot_table(index=\"Segment\",values=\"claim_amount\",aggfunc='mean')"
   ]
  },
  {
   "cell_type": "markdown",
   "id": "4dbb1b08",
   "metadata": {},
   "source": [
    "9. What is the total claim amount based on incident cause for all the claims\n",
    "that have been done at least 20 days prior to 1st of October, 2018."
   ]
  },
  {
   "cell_type": "code",
   "execution_count": 245,
   "id": "b4b09f3c",
   "metadata": {},
   "outputs": [
    {
     "data": {
      "text/html": [
       "<div>\n",
       "<style scoped>\n",
       "    .dataframe tbody tr th:only-of-type {\n",
       "        vertical-align: middle;\n",
       "    }\n",
       "\n",
       "    .dataframe tbody tr th {\n",
       "        vertical-align: top;\n",
       "    }\n",
       "\n",
       "    .dataframe thead th {\n",
       "        text-align: right;\n",
       "    }\n",
       "</style>\n",
       "<table border=\"1\" class=\"dataframe\">\n",
       "  <thead>\n",
       "    <tr style=\"text-align: right;\">\n",
       "      <th></th>\n",
       "      <th>claim_amount</th>\n",
       "    </tr>\n",
       "    <tr>\n",
       "      <th>incident_cause</th>\n",
       "      <th></th>\n",
       "    </tr>\n",
       "  </thead>\n",
       "  <tbody>\n",
       "    <tr>\n",
       "      <th>Crime</th>\n",
       "      <td>724462.49</td>\n",
       "    </tr>\n",
       "    <tr>\n",
       "      <th>Driver error</th>\n",
       "      <td>3264285.98</td>\n",
       "    </tr>\n",
       "    <tr>\n",
       "      <th>Natural causes</th>\n",
       "      <td>1312705.99</td>\n",
       "    </tr>\n",
       "    <tr>\n",
       "      <th>Other causes</th>\n",
       "      <td>3725038.47</td>\n",
       "    </tr>\n",
       "    <tr>\n",
       "      <th>Other driver error</th>\n",
       "      <td>3318806.48</td>\n",
       "    </tr>\n",
       "  </tbody>\n",
       "</table>\n",
       "</div>"
      ],
      "text/plain": [
       "                    claim_amount\n",
       "incident_cause                  \n",
       "Crime                  724462.49\n",
       "Driver error          3264285.98\n",
       "Natural causes        1312705.99\n",
       "Other causes          3725038.47\n",
       "Other driver error    3318806.48"
      ]
     },
     "execution_count": 245,
     "metadata": {},
     "output_type": "execute_result"
    }
   ],
   "source": [
    "a1=pd.to_datetime(\"2018-10-01\")\n",
    "\n",
    "b1=a1 - pd.DateOffset(days = 20)\n",
    "#c1=b1.strftime('%Y-%m-%d')\n",
    "round(df[pd.to_datetime(df.claim_date) <b1].pivot_table(index=\"incident_cause\",values=\"claim_amount\",aggfunc='sum'),2)\n"
   ]
  },
  {
   "cell_type": "markdown",
   "id": "f13442bc",
   "metadata": {},
   "source": [
    "10. How many adults from TX, DE and AK claimed insurance for driver \n",
    "related issues and causes?"
   ]
  },
  {
   "cell_type": "code",
   "execution_count": 246,
   "id": "ba489511",
   "metadata": {},
   "outputs": [
    {
     "data": {
      "text/plain": [
       "State\n",
       "AK     8\n",
       "DE    10\n",
       "Name: State, dtype: int64"
      ]
     },
     "execution_count": 246,
     "metadata": {},
     "output_type": "execute_result"
    }
   ],
   "source": [
    "#method:-\n",
    "df[\n",
    "    ((df.age_bins==\"adult\") &\n",
    "     ((df.incident_cause.str.contains(\"driver\"))|(df.incident_cause.str.contains(\"Driver\"))) &\n",
    "     ((df.State==\"tx\") | (df.State==\"DE\") | (df.State==\"AK\") )) ].groupby(by = \"State\")[\"State\"].count()"
   ]
  },
  {
   "cell_type": "code",
   "execution_count": 247,
   "id": "b83fb469",
   "metadata": {},
   "outputs": [
    {
     "data": {
      "text/plain": [
       "State\n",
       "AK     8\n",
       "DE    10\n",
       "Name: State, dtype: int64"
      ]
     },
     "execution_count": 247,
     "metadata": {},
     "output_type": "execute_result"
    }
   ],
   "source": [
    "#method2:-\n",
    "df[\n",
    "    ((df.age_bins==\"adult\") &\n",
    "     (df.incident_cause.str.lower().str.contains(\"driver\")) &\n",
    "     ((df.State==\"tx\") | (df.State==\"DE\") | (df.State==\"AK\") )) ].groupby(by = \"State\")[\"State\"].count()"
   ]
  },
  {
   "cell_type": "markdown",
   "id": "e8c4d810",
   "metadata": {},
   "source": [
    "11. Draw a pie chart between the aggregated value of claim amount based \n",
    "on gender and segment. Represent the claim amount as a percentage on\n",
    "the pie chart."
   ]
  },
  {
   "cell_type": "code",
   "execution_count": 248,
   "id": "69382df9",
   "metadata": {},
   "outputs": [
    {
     "name": "stdout",
     "output_type": "stream",
     "text": [
      "gender        Female        Male\n",
      "Segment                         \n",
      "Gold      2109763.49  2622890.48\n",
      "Platinum  2369503.49  2095815.49\n",
      "Silver    1898558.48  2346665.98\n"
     ]
    },
    {
     "data": {
      "image/png": "[encoded data removed]",
      "text/plain": [
       "<Figure size 720x720 with 4 Axes>"
      ]
     },
     "metadata": {},
     "output_type": "display_data"
    }
   ],
   "source": [
    "sg=round(df.pivot_table(index=\"Segment\",values=\"claim_amount\",columns='gender',aggfunc='sum'),2)\n",
    "print(sg)\n",
    "sg.T.plot(kind='pie', \n",
    "            \n",
    "            colors=['deepskyblue', 'darkorange'],\n",
    "          \n",
    "            fontsize=12,\n",
    "            subplots='true',\n",
    "            layout=(2,2), #to get a grid\n",
    "            figsize=(10,10))\n",
    "plt.show()"
   ]
  },
  {
   "cell_type": "markdown",
   "id": "614dbb8e",
   "metadata": {},
   "source": [
    "12. Among males and females, which gender had claimed the most for any \n",
    "type of driver related issues? E.g. This metric can be compared using a \n",
    "bar chart"
   ]
  },
  {
   "cell_type": "code",
   "execution_count": 249,
   "id": "b4aa4873",
   "metadata": {},
   "outputs": [
    {
     "data": {
      "text/plain": [
       "<AxesSubplot:xlabel='incident_cause'>"
      ]
     },
     "execution_count": 249,
     "metadata": {},
     "output_type": "execute_result"
    },
    {
     "data": {
      "image/png": "[encoded data removed]",
      "text/plain": [
       "<Figure size 432x288 with 1 Axes>"
      ]
     },
     "metadata": {},
     "output_type": "display_data"
    }
   ],
   "source": [
    "round(df[(((df.gender==\"Female\")|(df.gender==\"Male\")) &(df.incident_cause.str.lower().str.contains(\"driver\")))].pivot_table(\n",
    "    index=\"incident_cause\",values=\"claim_amount\",columns='gender',aggfunc='count'),2).plot(kind='bar')"
   ]
  },
  {
   "cell_type": "markdown",
   "id": "43ec9177",
   "metadata": {},
   "source": [
    "13. Which age group had the maximum fraudulent policy claims? Visualize \n",
    "it on a bar chart."
   ]
  },
  {
   "cell_type": "code",
   "execution_count": 250,
   "id": "7f893a98",
   "metadata": {},
   "outputs": [
    {
     "name": "stdout",
     "output_type": "stream",
     "text": [
      "age_bins  fraudulent\n",
      "Children  Yes             0\n",
      "youth     Yes            39\n",
      "adult     Yes           187\n",
      "Senior    Yes            21\n",
      "Name: fraudulent, dtype: int64\n"
     ]
    },
    {
     "data": {
      "text/plain": [
       "<AxesSubplot:xlabel='age_bins,fraudulent'>"
      ]
     },
     "execution_count": 250,
     "metadata": {},
     "output_type": "execute_result"
    },
    {
     "data": {
      "image/png": "[encoded data removed]",
      "text/plain": [
       "<Figure size 576x576 with 1 Axes>"
      ]
     },
     "metadata": {},
     "output_type": "display_data"
    }
   ],
   "source": [
    "f=df[df.fraudulent=='Yes']\n",
    "G2=f.groupby(([\"age_bins\",\"fraudulent\"]))[\"fraudulent\"].count()\n",
    "print(G2)\n",
    "G2.plot(kind=\"bar\",figsize=(8,8),width=0.5)"
   ]
  },
  {
   "cell_type": "markdown",
   "id": "d66b442e",
   "metadata": {},
   "source": [
    "14. Visualize the monthly trend of the total amount that has been claimed \n",
    "by the customers. Ensure that on the “month” axis, the month is in a \n",
    "chronological order not alphabetical order. "
   ]
  },
  {
   "cell_type": "code",
   "execution_count": 251,
   "id": "f45a01cc",
   "metadata": {},
   "outputs": [
    {
     "name": "stdout",
     "output_type": "stream",
     "text": [
      "month_year\n",
      "17-01    610302.495558\n",
      "17-02    633523.997038\n",
      "17-03    615513.997038\n",
      "17-04    747944.498519\n",
      "17-05    546647.995558\n",
      "17-06    560112.498519\n",
      "17-07    790743.994077\n",
      "17-08    431553.997038\n",
      "17-09    459250.489635\n",
      "17-10    647201.995558\n",
      "17-11    601124.997038\n",
      "17-12    696701.498519\n",
      "18-01    721709.494077\n",
      "18-02    499582.997038\n",
      "18-03    704579.995558\n",
      "18-04    528126.998519\n",
      "18-05    567563.492596\n",
      "18-06    716220.492596\n",
      "18-07    588290.992596\n",
      "18-08    479649.498519\n",
      "18-09    521397.495558\n",
      "18-10    775453.492596\n",
      "Name: claim_amount, dtype: float64\n"
     ]
    },
    {
     "data": {
      "text/plain": [
       "<AxesSubplot:xlabel='month_year'>"
      ]
     },
     "execution_count": 251,
     "metadata": {},
     "output_type": "execute_result"
    },
    {
     "data": {
      "image/png": "[encoded data removed]",
      "text/plain": [
       "<Figure size 864x576 with 1 Axes>"
      ]
     },
     "metadata": {},
     "output_type": "display_data"
    }
   ],
   "source": [
    "df['month_year']=pd.to_datetime(df.claim_date).dt.strftime('%y-%m')\n",
    "g3=df.groupby((['month_year']))[\"claim_amount\"].sum()\n",
    "print(g3)\n",
    "g3.plot(kind='bar',figsize=(12,8))"
   ]
  },
  {
   "cell_type": "markdown",
   "id": "45abdb3b",
   "metadata": {},
   "source": [
    "15. What is the average claim amount for gender and age categories and \n",
    "suitably represent the above using a facetted bar chart, one facet that \n",
    "represents fraudulent claims and the other for non-fraudulent claims."
   ]
  },
  {
   "cell_type": "markdown",
   "id": "8bfb7ea7",
   "metadata": {},
   "source": [
    "Based on the conclusions from exploratory analysis as well as suitable \n",
    "statistical tests, answer the below questions. Please include a detailed \n",
    "write-up on the parameters taken into consideration, the Hypothesis \n",
    "testing steps, conclusion from the p-values and the business implications of \n",
    "the statements."
   ]
  },
  {
   "cell_type": "code",
   "execution_count": 252,
   "id": "1b6bec88",
   "metadata": {},
   "outputs": [
    {
     "name": "stdout",
     "output_type": "stream",
     "text": [
      "fraudulent                 No           Yes\n",
      "age_bins gender                            \n",
      "Children Female  0.000000e+00  0.000000e+00\n",
      "         Male    0.000000e+00  0.000000e+00\n",
      "youth    Female  1.066982e+06  1.935055e+05\n",
      "         Male    1.063693e+06  1.403620e+05\n",
      "adult    Female  3.556704e+06  1.152522e+06\n",
      "         Male    3.801370e+06  1.546742e+06\n",
      "Senior   Female  3.589830e+05  4.912800e+04\n",
      "         Male    3.781710e+05  1.350330e+05\n"
     ]
    },
    {
     "data": {
      "text/plain": [
       "<AxesSubplot:xlabel='age_bins,gender'>"
      ]
     },
     "execution_count": 252,
     "metadata": {},
     "output_type": "execute_result"
    },
    {
     "data": {
      "image/png": "[encoded data removed]",
      "text/plain": [
       "<Figure size 864x576 with 1 Axes>"
      ]
     },
     "metadata": {},
     "output_type": "display_data"
    }
   ],
   "source": [
    "g15 = df.groupby(([\"fraudulent\",\"age_bins\",\"gender\"]))[\"claim_amount\"].sum()\n",
    "g15= g15.unstack(level=0)\n",
    "print(g15)\n",
    "g15.plot(kind=\"bar\",figsize=(12,8),width=0.8)\n"
   ]
  },
  {
   "cell_type": "markdown",
   "id": "4b00788a",
   "metadata": {},
   "source": [
    "16. Is there any similarity in the amount claimed by males and females?"
   ]
  },
  {
   "cell_type": "code",
   "execution_count": 253,
   "id": "fa075177",
   "metadata": {},
   "outputs": [
    {
     "name": "stdout",
     "output_type": "stream",
     "text": [
      "mean s1: 12102.14 | mean s2: 12822.82\n",
      "var s1: 172812383.31 | var s2: 184287041.08\n"
     ]
    }
   ],
   "source": [
    "s1 = df.loc[ df.gender == 'Female', 'claim_amount']\n",
    "s2 = df.loc[ df.gender == 'Male', 'claim_amount']\n",
    "print( 'mean s1:', round(s1.mean(), 2), \n",
    "          '| mean s2:', round(s2.mean(), 2))\n",
    "print( 'var s1:', round(s1.var(), 2), \n",
    "          '| var s2:', round(s2.var(), 2))\n",
    "\n"
   ]
  },
  {
   "cell_type": "markdown",
   "id": "6ec9e370",
   "metadata": {},
   "source": [
    "Ho: No variance in the spend of different gender Ha: Customers of different gender spend differently\n",
    "\n",
    "CI: 95%, p: 0.05\n",
    "\n",
    "Test: f-test"
   ]
  },
  {
   "cell_type": "code",
   "execution_count": 254,
   "id": "5f972ee8",
   "metadata": {},
   "outputs": [
    {
     "data": {
      "text/plain": [
       "F_onewayResult(statistic=0.7829955562662301, pvalue=0.3764242430542767)"
      ]
     },
     "execution_count": 254,
     "metadata": {},
     "output_type": "execute_result"
    }
   ],
   "source": [
    "stats.f_oneway(s1, s2)"
   ]
  },
  {
   "cell_type": "markdown",
   "id": "0db368e2",
   "metadata": {},
   "source": [
    "17. Is there any relationship between age category and segment?"
   ]
  },
  {
   "cell_type": "markdown",
   "id": "56a4d9c9",
   "metadata": {},
   "source": [
    "Ho: No relationship | Both are independent Ha: Dependent | have relationship\n",
    "\n",
    "CI: 99%, p: 0.01\n",
    "\n",
    "Test: chisquare"
   ]
  },
  {
   "cell_type": "code",
   "execution_count": 255,
   "id": "8327391e",
   "metadata": {},
   "outputs": [
    {
     "data": {
      "text/plain": [
       "(0.6654696397990999,\n",
       " 0.9555179463691874,\n",
       " 4,\n",
       " array([[ 71.58441558,  69.65491651,  66.7606679 ],\n",
       "        [273.6038961 , 266.22912801, 255.16697588],\n",
       "        [ 25.81168831,  25.11595547,  24.07235622]]))"
      ]
     },
     "execution_count": 255,
     "metadata": {},
     "output_type": "execute_result"
    }
   ],
   "source": [
    "obs = pd.crosstab( df.age_bins, df.Segment )\n",
    "stats.chi2_contingency( obs )"
   ]
  },
  {
   "cell_type": "markdown",
   "id": "2ac1d2d5",
   "metadata": {},
   "source": [
    "18. The current year has shown a significant rise in claim amounts as \n",
    "compared to 2016-17 fiscal average which was $10,000."
   ]
  },
  {
   "cell_type": "code",
   "execution_count": 263,
   "id": "7476aa17",
   "metadata": {},
   "outputs": [
    {
     "name": "stdout",
     "output_type": "stream",
     "text": [
      "current fiscal year average amount is :-  12926.97 thi amount is  29.27 % more then the previous fiscal yeat average amount\n"
     ]
    }
   ],
   "source": [
    "a=round(df[((pd.to_datetime(df.claim_date).dt.strftime('%y%m').astype(int) >= 1704) &\n",
    "    (pd.to_datetime(df.claim_date).dt.strftime('%y%m').astype(int)<=1803))].claim_amount.mean(),2)\n",
    "\n",
    "b=round((a-10000)/10000*100,2)\n",
    "print(\"current fiscal year average amount is :- \",a,'thi amount is ',b,'% more then the previous fiscal yeat average amount')\n"
   ]
  },
  {
   "cell_type": "code",
   "execution_count": 264,
   "id": "67cc6f1c",
   "metadata": {},
   "outputs": [
    {
     "data": {
      "text/plain": [
       "Ttest_1sampResult(statistic=6.068796577191384, pvalue=1.7827316562159517e-09)"
      ]
     },
     "execution_count": 264,
     "metadata": {},
     "output_type": "execute_result"
    }
   ],
   "source": [
    "stats.ttest_1samp( df.claim_amount, 10000 )"
   ]
  },
  {
   "cell_type": "markdown",
   "id": "999d5ff1",
   "metadata": {},
   "source": [
    "19. Is there any difference between age groups and insurance claims?"
   ]
  },
  {
   "cell_type": "code",
   "execution_count": 265,
   "id": "6fb8b597",
   "metadata": {},
   "outputs": [
    {
     "data": {
      "text/plain": [
       "age_bins\n",
       "Children      0\n",
       "youth       208\n",
       "adult       795\n",
       "Senior       75\n",
       "Name: age_bins, dtype: int64"
      ]
     },
     "execution_count": 265,
     "metadata": {},
     "output_type": "execute_result"
    }
   ],
   "source": [
    "g19 = df.groupby(([\"age_bins\"]))[\"age_bins\"].count()\n",
    "g19"
   ]
  },
  {
   "cell_type": "code",
   "execution_count": 268,
   "id": "9ae15727",
   "metadata": {},
   "outputs": [
    {
     "name": "stdout",
     "output_type": "stream",
     "text": [
      "mean A: 1.56 | mean Y: 1.66 | mean C: 1.55\n",
      "var A: 1.19 | var Y: 1.68 | var C: 1.19\n"
     ]
    },
    {
     "data": {
      "text/plain": [
       "F_onewayResult(statistic=0.5970231489075319, pvalue=0.5506302073025293)"
      ]
     },
     "execution_count": 268,
     "metadata": {},
     "output_type": "execute_result"
    }
   ],
   "source": [
    "A= df.loc[ df.age_bins == 'adult', 'total_policy_claims']\n",
    "Y= df.loc[ df.age_bins == 'youth', 'total_policy_claims']\n",
    "C= df.loc[ df.age_bins == 'Senior','total_policy_claims']\n",
    "\n",
    "print( 'mean A:', round(A.mean(), 2), \n",
    "          '| mean Y:', round(Y.mean(), 2), \n",
    "              '| mean C:', round(C.mean(), 2))\n",
    "print( 'var A:', round(A.var(), 2), \n",
    "          '| var Y:', round(Y.var(), 2), \n",
    "              '| var C:', round(C.var(), 2))\n",
    "stats.f_oneway(A, Y, C)"
   ]
  },
  {
   "cell_type": "markdown",
   "id": "b77341b5",
   "metadata": {},
   "source": [
    "20. Is there any relationship between total number of policy claims and the \n",
    "claimed amount?"
   ]
  },
  {
   "cell_type": "markdown",
   "id": "28a33d16",
   "metadata": {},
   "source": [
    "# corelation\n",
    "Ho: No relationship Ha: Dependent or have relationship\n",
    "\n",
    "CI: 95%, p-value: 0.05\n",
    "\n",
    "Test: Pearson Cofficient"
   ]
  },
  {
   "cell_type": "code",
   "execution_count": 272,
   "id": "7ed40ab4",
   "metadata": {},
   "outputs": [
    {
     "data": {
      "text/plain": [
       "(-0.014291136186627359, 0.6392846937920396)"
      ]
     },
     "execution_count": 272,
     "metadata": {},
     "output_type": "execute_result"
    }
   ],
   "source": [
    "stats.pearsonr( df.total_policy_claims, df.claim_amount)"
   ]
  },
  {
   "cell_type": "code",
   "execution_count": 269,
   "id": "68998660",
   "metadata": {},
   "outputs": [
    {
     "name": "stderr",
     "output_type": "stream",
     "text": [
      "C:\\ProgramData\\Anaconda3\\lib\\site-packages\\seaborn\\_decorators.py:36: FutureWarning: Pass the following variables as keyword args: x, y. From version 0.12, the only valid positional argument will be `data`, and passing other arguments without an explicit keyword will result in an error or misinterpretation.\n",
      "  warnings.warn(\n"
     ]
    },
    {
     "data": {
      "image/png": "[encoded data removed]",
      "text/plain": [
       "<Figure size 432x288 with 1 Axes>"
      ]
     },
     "metadata": {},
     "output_type": "display_data"
    }
   ],
   "source": [
    "sns.scatterplot( df.total_policy_claims,df.claim_amount)\n",
    "plt.show()"
   ]
  },
  {
   "cell_type": "code",
   "execution_count": null,
   "id": "3aa54883",
   "metadata": {},
   "outputs": [],
   "source": []
  },
  {
   "cell_type": "code",
   "execution_count": null,
   "id": "d4376deb",
   "metadata": {},
   "outputs": [],
   "source": []
  },
  {
   "cell_type": "code",
   "execution_count": null,
   "id": "7c591ed9",
   "metadata": {},
   "outputs": [],
   "source": []
  },
  {
   "cell_type": "code",
   "execution_count": null,
   "id": "1dc97088",
   "metadata": {},
   "outputs": [],
   "source": []
  },
  {
   "cell_type": "code",
   "execution_count": null,
   "id": "af446ea9",
   "metadata": {},
   "outputs": [],
   "source": []
  },
  {
   "cell_type": "code",
   "execution_count": null,
   "id": "88d21229",
   "metadata": {},
   "outputs": [],
   "source": []
  },
  {
   "cell_type": "code",
   "execution_count": null,
   "id": "0803bb35",
   "metadata": {},
   "outputs": [],
   "source": []
  },
  {
   "cell_type": "code",
   "execution_count": null,
   "id": "9880ebc1",
   "metadata": {},
   "outputs": [],
   "source": []
  },
  {
   "cell_type": "code",
   "execution_count": null,
   "id": "32686862",
   "metadata": {},
   "outputs": [],
   "source": []
  }
 ],
 "metadata": {
  "kernelspec": {
   "display_name": "Python 3 (ipykernel)",
   "language": "python",
   "name": "python3"
  },
  "language_info": {
   "codemirror_mode": {
    "name": "ipython",
    "version": 3
   },
   "file_extension": ".py",
   "mimetype": "text/x-python",
   "name": "python",
   "nbconvert_exporter": "python",
   "pygments_lexer": "ipython3",
   "version": "3.9.7"
  }
 },
 "nbformat": 4,
 "nbformat_minor": 5
}
